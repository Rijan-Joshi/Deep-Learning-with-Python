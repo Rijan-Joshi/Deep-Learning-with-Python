{
 "cells": [
  {
   "cell_type": "code",
   "execution_count": 1,
   "id": "a35a2dc6-db1a-407e-9329-2054c3a52712",
   "metadata": {},
   "outputs": [
    {
     "name": "stdout",
     "output_type": "stream",
     "text": [
      "Note: you may need to restart the kernel to use updated packages.\n"
     ]
    }
   ],
   "source": [
    "%pip install tensorflow --quiet"
   ]
  },
  {
   "cell_type": "markdown",
   "id": "5fd3f89f-6567-4e4b-8856-1ab13628631b",
   "metadata": {},
   "source": [
    "#For creating the model that train the data from scratch, we need:\n",
    "1. Layer\n",
    "2. Sequential Class\n",
    "3. Epoch\n",
    "4. Batch\n",
    "5. Datae"
   ]
  },
  {
   "cell_type": "raw",
   "id": "21ede3b0-20da-4ab2-8d6e-9551a25a9a27",
   "metadata": {},
   "source": [
    "#NaiveDense Layer"
   ]
  },
  {
   "cell_type": "raw",
   "id": "a028b6aa-9326-42ff-97ba-686591dc69d8",
   "metadata": {},
   "source": [
    "class NaiveDense:\n",
    "    def __init__(self, input_size, output_size, activation):\n",
    "        self.activation = activation\n",
    "        w_shape = (input_size, output_size)\n",
    "        w_initial_value = tf.random.uniform(w_shape, minval = 0, maxval = 1e-1)\n",
    "        self.W = tf.Variable(w_initial_value)\n",
    "\n",
    "        b_shape = (output_size,)\n",
    "        b_initial_value = tf.zeros(b_shape)\n",
    "        self.b = tf.Variable(b_initial_value)\n",
    "\n",
    "    def __call__(self, inputs):\n",
    "        return self.activation(tf.matmul(inputs, self.W)+self.b)\n",
    "\n",
    "    @property \n",
    "    def weights(self):\n",
    "        return [self.W, self.b]"
   ]
  },
  {
   "cell_type": "raw",
   "id": "1b013be4-47c6-467a-9e89-ea062cbe10ad",
   "metadata": {},
   "source": [
    "#Sequence Class to chain these dense layers "
   ]
  },
  {
   "cell_type": "code",
   "execution_count": 12,
   "id": "cb132171-b26d-4dcc-afdc-f9dd096e834c",
   "metadata": {},
   "outputs": [],
   "source": [
    "class NaiveSequential:\n",
    "    def __init__(self, layers):\n",
    "        self.layers = layers\n",
    "\n",
    "    def __call__(self, inputs):\n",
    "        x = inputs\n",
    "        for layer in self.layers:\n",
    "            x = layer(x)\n",
    "        return x\n",
    "\n",
    "    @property\n",
    "    def weights(self):\n",
    "        weights = []\n",
    "        for layer in self.layers:\n",
    "            weights += layer.weights\n",
    "        return weights"
   ]
  },
  {
   "cell_type": "raw",
   "id": "a2621a10-693a-4e05-88d7-6c6ecb0b1c4b",
   "metadata": {},
   "source": [
    "#We also need a batch generator to generate the batch of data to process at a time"
   ]
  },
  {
   "cell_type": "code",
   "execution_count": 13,
   "id": "7715658e-ccd1-4f10-9a9b-05c419e58949",
   "metadata": {},
   "outputs": [],
   "source": [
    "import math\n",
    "class BatchGenerator:\n",
    "    def __init__(self, images, labels, batch_size = 128):\n",
    "        self.index = 0\n",
    "        self.images = images\n",
    "        self.labels = labels\n",
    "        self.batch_size = batch_size\n",
    "        self.num_batches = math.ceil(len(images) / batch_size)\n",
    "\n",
    "    def next(self):\n",
    "        images = self.images[self.index: self.index + self.batch_size]\n",
    "        labels = self.labels[self.index: self.index + self.batch_size]\n",
    "        self.index+= self.batch_size\n",
    "        return images, labels"
   ]
  },
  {
   "cell_type": "raw",
   "id": "51067a41-e4dc-4d00-b109-ba811fdb8949",
   "metadata": {},
   "source": [
    "#One-Training Step\n",
    "When we are training, we must calculate the gradient of the loss with respect to the weight and update the value of weight accordingly"
   ]
  },
  {
   "cell_type": "code",
   "execution_count": 14,
   "id": "e8229102-f2c6-4349-a90f-35654b1a45d8",
   "metadata": {},
   "outputs": [],
   "source": [
    "def one_training_step(model, images_batch, labels_batch):\n",
    "    with tf.GradientTape() as tape:\n",
    "        predictions = model(images_batch)\n",
    "        per_sample_losses = tf.keras.losses.sparse_categorical_crossentropy(labels_batch, predictions)\n",
    "        print(per_sample_losses)\n",
    "        average_loss = tf.reduce_mean(per_sample_losses)\n",
    "        print(average_loss)\n",
    "    gradients = tape.gradient(average_loss, model.weights)\n",
    "    update_weights(gradients, model.weights)\n",
    "    return average_loss"
   ]
  },
  {
   "cell_type": "code",
   "execution_count": 15,
   "id": "e790d42f-beaa-467e-ab63-1b91bca1d70f",
   "metadata": {},
   "outputs": [],
   "source": [
    "learning_rate = 1e-3\n",
    "def update_weights(gradients, weights):\n",
    "    for g, w in zip(gradients, weights):\n",
    "        w.assign_sub(g* learning_rate)"
   ]
  },
  {
   "cell_type": "code",
   "execution_count": null,
   "id": "f20c1e0e-5eb0-49ce-aaca-e3ff92a33ec3",
   "metadata": {},
   "outputs": [],
   "source": []
  }
 ],
 "metadata": {
  "kernelspec": {
   "display_name": "Python 3 (ipykernel)",
   "language": "python",
   "name": "python3"
  },
  "language_info": {
   "codemirror_mode": {
    "name": "ipython",
    "version": 3
   },
   "file_extension": ".py",
   "mimetype": "text/x-python",
   "name": "python",
   "nbconvert_exporter": "python",
   "pygments_lexer": "ipython3",
   "version": "3.12.8"
  }
 },
 "nbformat": 4,
 "nbformat_minor": 5
}
